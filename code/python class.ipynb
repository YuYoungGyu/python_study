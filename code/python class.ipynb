{
 "cells": [
  {
   "cell_type": "code",
   "execution_count": null,
   "metadata": {},
   "outputs": [],
   "source": [
    "# __name => private\n",
    "# _name => protected\n",
    "# name => public"
   ]
  },
  {
   "cell_type": "code",
   "execution_count": 24,
   "metadata": {},
   "outputs": [
    {
     "name": "stdout",
     "output_type": "stream",
     "text": [
      "get name in parent\n",
      "young\n",
      "set gpa in parent as yu\n",
      "get name in parent\n",
      "yu\n"
     ]
    }
   ],
   "source": [
    "class person:\n",
    "    __name = \"\"\n",
    "    __id = 0\n",
    "    _gpa = 0.0\n",
    "    __department = \"\"\n",
    "    \n",
    "    def __init__(self, name, id, gpa, department):\n",
    "        self.__name = name\n",
    "        self.__id = id\n",
    "        self._gpa = gpa\n",
    "        self.__department = department\n",
    "        \n",
    "    def set_name(self, name):\n",
    "        print(\"%s in %s as %s\" % ('set gpa', 'parent', name))\n",
    "        self.__name = name\n",
    "        \n",
    "    def get_name(self):\n",
    "        print(\"%s in %s\" % ('get name', 'parent'))\n",
    "        return self.__name\n",
    "    \n",
    "    def set_gpa(self, gpa):\n",
    "        self._gpa = gpa\n",
    "        print(\"%s in %s as %.1lf\" % ('set gpa', 'parent', gpa))\n",
    "    \n",
    "    def get_gpa(self):\n",
    "        print(\"%s in %s\" % ('get gpa', 'parent'))\n",
    "        return self._gpa\n",
    "    \n",
    "    def set_department(self, department):\n",
    "        self.__department = department\n",
    "        print(\"%s in %s as %.1lf\" % ('set department', 'parent', department))\n",
    "    \n",
    "    def get_department(self):\n",
    "        print(\"%s in %s\" % ('get department', 'parent'))\n",
    "        return self.__department\n",
    "\n",
    "young = person(\"young\",10,3.6,'smart')\n",
    "print(young.get_name())\n",
    "young.set_name(\"yu\")\n",
    "print(young.get_name())"
   ]
  },
  {
   "cell_type": "code",
   "execution_count": 25,
   "metadata": {},
   "outputs": [],
   "source": [
    "#상속"
   ]
  },
  {
   "cell_type": "code",
   "execution_count": 30,
   "metadata": {},
   "outputs": [
    {
     "name": "stdout",
     "output_type": "stream",
     "text": [
      "get/set gpa with parent class\n",
      "get gpa in parent\n",
      "3.6\n",
      "set gpa in parent as 2.0\n",
      "get gpa in parent\n",
      "2.0\n",
      "\n",
      "get/set gpa with children class\n",
      "get gpa in children\n",
      "3.6\n",
      "set gpa in children as 2.0\n",
      "get gpa in children\n",
      "2.0\n",
      "\n",
      "use super() for get/set name\n",
      "set gpa in parent as young\n",
      "get name in parent\n",
      "young\n"
     ]
    }
   ],
   "source": [
    "class student(person):\n",
    "    def set_name(self, name):\n",
    "        super().set_name(name)\n",
    "        \n",
    "    def get_name(self):\n",
    "        return super().get_name()\n",
    "    \n",
    "    def set_gpa(self, gpa):\n",
    "        self._gpa = gpa\n",
    "        print(\"%s in %s as %.1lf\" % ('set gpa', 'children', gpa))\n",
    "        return self._gpa\n",
    "    \n",
    "    def get_gpa(self):\n",
    "        print(\"%s in %s\" % ('get gpa', 'children'))\n",
    "        return self._gpa\n",
    "    \n",
    "gyu = person(\"gyu\",10,3.6,'smart')\n",
    "yu = student(\"yu\",10,3.6,'smart')\n",
    "\n",
    "print(\"get/set gpa with parent class\")\n",
    "print(gyu.get_gpa())\n",
    "gyu.set_gpa(2.0)\n",
    "print(gyu.get_gpa())\n",
    "\n",
    "print(\"\\nget/set gpa with children class\")\n",
    "print(yu.get_gpa())\n",
    "yu.set_gpa(2.0)\n",
    "print(yu.get_gpa())\n",
    "\n",
    "print(\"\\nuse super() for get/set name\")\n",
    "yu.set_name(\"young\")\n",
    "print(yu.get_name())"
   ]
  },
  {
   "cell_type": "code",
   "execution_count": null,
   "metadata": {},
   "outputs": [],
   "source": []
  }
 ],
 "metadata": {
  "kernelspec": {
   "display_name": "Python 3",
   "language": "python",
   "name": "python3"
  },
  "language_info": {
   "codemirror_mode": {
    "name": "ipython",
    "version": 3
   },
   "file_extension": ".py",
   "mimetype": "text/x-python",
   "name": "python",
   "nbconvert_exporter": "python",
   "pygments_lexer": "ipython3",
   "version": "3.8.3"
  }
 },
 "nbformat": 4,
 "nbformat_minor": 4
}
